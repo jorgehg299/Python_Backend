{
 "cells": [
  {
   "cell_type": "markdown",
   "id": "d91b3503",
   "metadata": {},
   "source": [
    "# 1 Creamos una nueva clase llamada Protected Lisview"
   ]
  },
  {
   "cell_type": "markdown",
   "id": "0ef56013",
   "metadata": {},
   "source": [
    "Pasos importantes:\n",
    "- Asegurarnos que la base class esta siendo importada\n",
    "- ProtectedListView debe heredar de ListView y de LoginRequiredMixin\n",
    "- Sobreescribir la funcion get_queryset para que solo regrese los productos que fueron creados por el usuario"
   ]
  },
  {
   "cell_type": "code",
   "execution_count": null,
   "id": "bb770f2c",
   "metadata": {},
   "outputs": [],
   "source": [
    "from django.contrib.auth.mixins import LoginRequiredMixin\n",
    "from django.views.generic import ListView\n",
    "from .models import Product\n",
    "\n",
    "class ProtectedProductListView(LoginRequiredMixin, ListView):\n",
    "    model = Product\n",
    "    template_name = \"products/product_list.html\"\n",
    "    context_object_name = \"products\"\n",
    "\n",
    "    def get_queryset(self):\n",
    "        return Product.objects.filter(user=self.request.user)\n"
   ]
  },
  {
   "cell_type": "markdown",
   "id": "dff233d7",
   "metadata": {},
   "source": [
    "# 2 Agregamos la clase a las URLs"
   ]
  },
  {
   "cell_type": "markdown",
   "id": "4aa37433",
   "metadata": {},
   "source": [
    "- Importamos la clase de ProtectedListView\n",
    "- definimos un nuevo endpoint para la vista ProtectedListView dentro de nuestro urlpatterns"
   ]
  },
  {
   "cell_type": "code",
   "execution_count": null,
   "id": "e1b50d8f",
   "metadata": {},
   "outputs": [],
   "source": [
    "from django.contrib import admin\n",
    "from django.urls import path\n",
    "from django.views.generic import TemplateView, RedirectView\n",
    "\n",
    "from products.views import (\n",
    "    ProductListView, \n",
    "    ProductDetailView, \n",
    "    DigitalProductListView, \n",
    "    ProductIDRedirectView, \n",
    "    ProductRedirectView,\n",
    "    ProtectedProductDetailView,\n",
    "    ProtectedProductCreateView,\n",
    "    ProtectedProductUpdateView,\n",
    "    ProtectedProductDeleteView,\n",
    "    ProtectedProductListView,#<-----------\n",
    ")\n",
    "\n",
    "urlpatterns = [\n",
    "    path(\"admin/\", admin.site.urls),\n",
    "    path(\"about-us/\", RedirectView.as_view(url=\"/products/about/\")),\n",
    "    path(\"about/\", TemplateView.as_view(template_name=\"about.html\")),\n",
    "    path(\"team/\", TemplateView.as_view(template_name=\"team.html\")),\n",
    "    path(\"products/\", ProductListView.as_view()),\n",
    "    path(\"digital-products/\", DigitalProductListView.as_view()),\n",
    "    path(\"products/<int:pk>/\", ProductDetailView.as_view()),\n",
    "    path(\"products/<slug:slug>/\", ProductDetailView.as_view()),\n",
    "    path(\"p/<int:pk>/\", ProductIDRedirectView.as_view()),\n",
    "    path(\"p/<slug:slug>/\", ProductRedirectView.as_view()),\n",
    "    \n",
    "    path(\"my-products/\", ProtectedProductListView.as_view()),#<-----------\n",
    "    path(\"my-products/create/\", ProtectedProductCreateView.as_view()),\n",
    "    #path(\"my-products/<slug:slug>/\", ProtectedProductDetailView.as_view()),\n",
    "    path(\"my-products/<slug:slug>/\", ProtectedProductUpdateView.as_view()),\n",
    "    path(\"my-products/<slug:slug>/delete/\", ProtectedProductDeleteView.as_view()),\n",
    "\n",
    "    \n",
    "]\n"
   ]
  }
 ],
 "metadata": {
  "kernelspec": {
   "display_name": "Python 3 (ipykernel)",
   "language": "python",
   "name": "python3"
  },
  "language_info": {
   "codemirror_mode": {
    "name": "ipython",
    "version": 3
   },
   "file_extension": ".py",
   "mimetype": "text/x-python",
   "name": "python",
   "nbconvert_exporter": "python",
   "pygments_lexer": "ipython3",
   "version": "3.11.5"
  }
 },
 "nbformat": 4,
 "nbformat_minor": 5
}
