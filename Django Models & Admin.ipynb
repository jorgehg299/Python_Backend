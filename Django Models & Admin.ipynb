{
 "cells": [
  {
   "cell_type": "markdown",
   "id": "103d098b",
   "metadata": {},
   "source": [
    "#### 1 Para motivos de esta tarea, primero nos aseguramos de que nuestros productos esten vacios:\n",
    "Dentro de la carpeta \"hellodjango\" en la terminal corremos los siguientes comandos :"
   ]
  },
  {
   "cell_type": "code",
   "execution_count": null,
   "id": "d76e6d31",
   "metadata": {},
   "outputs": [],
   "source": [
    "docker exec -it hellodjango-web-1 bash\n",
    "python manage.py shell\n",
    "from ecommerce.models import ProductModel\n",
    "ProductModel.objects.all()"
   ]
  },
  {
   "cell_type": "markdown",
   "id": "564320f7",
   "metadata": {},
   "source": [
    "Resultado:\n",
    "    <QuerySet []>"
   ]
  },
  {
   "cell_type": "markdown",
   "id": "c4ecdb90",
   "metadata": {},
   "source": [
    "#### 2 Una vez que comprobamos que la lista de Modelos de producto esta vacio, procedemos a crear 500 productos a manera de prueba del ecommerce con un ciclo y de forma automatica"
   ]
  },
  {
   "cell_type": "code",
   "execution_count": null,
   "id": "9eb2949d",
   "metadata": {},
   "outputs": [],
   "source": [
    "products_data = []\n",
    "for i in range(0, 500):\n",
    "    new_data = {\"title\": \"Producto {}\".format(i), \"price\": i*100+99.99}\n",
    "    products_data.append(new_data)\n",
    "    \n",
    "from ecommerce.models import ProductModel\n",
    "new_objects = []\n",
    "for product_data in products_data:\n",
    "    print(product_data)\n",
    "    new_objects.append(ProductModel(**product_data))\n",
    "ProductModel.objects.bulk_create(new_objects, ignore_conflicts = True)"
   ]
  },
  {
   "cell_type": "markdown",
   "id": "65b066ed",
   "metadata": {},
   "source": [
    "Resultado:\n",
    "    >>> ProductModel.objects.all()\n",
    "<QuerySet [<ProductModel: Producto 499>, <ProductModel: Producto 498>, <ProductModel: Producto 497>, <ProductModel: Producto 496>, <ProductModel: Producto 495>, <ProductModel: Producto 494>, <ProductModel: Producto 493>, <ProductModel: Producto 492>, <ProductModel: Producto 491>, <ProductModel: Producto 490>, <ProductModel: Producto 489>, <ProductModel: Producto 488>, <ProductModel: Producto 487>, <ProductModel: Producto 486>, <ProductModel: Producto 485>, <ProductModel: Producto 484>, <ProductModel: Producto 483>, <ProductModel: Producto 482>, <ProductModel: Producto 481>, <ProductModel: Producto 480>, '...(remaining elements truncated)...']>\n"
   ]
  },
  {
   "cell_type": "markdown",
   "id": "2fa8d0e2",
   "metadata": {},
   "source": [
    "#### 3 Aun dentro de la ventana de comandos salimos del interprete de python con Ctrl + d y dentro de nuestro contenedor aplicamos la siguiente linea para generar un nuevo fixture, con los 500 productos:"
   ]
  },
  {
   "cell_type": "code",
   "execution_count": null,
   "id": "8d69b290",
   "metadata": {},
   "outputs": [],
   "source": [
    "python manage.py dumpdata ecommerce --indent 4 --format json > ecommerce/fixtures/products/500Products.json"
   ]
  },
  {
   "cell_type": "markdown",
   "id": "4a9355c9",
   "metadata": {},
   "source": [
    "#### 4 Eliminamos todos los productos de nuestra base de datos:"
   ]
  },
  {
   "cell_type": "code",
   "execution_count": null,
   "id": "14009181",
   "metadata": {},
   "outputs": [],
   "source": [
    "from ecommerce.models import ProductModel\n",
    "ProductModel.objects.all()\n",
    "ProductModel.objects.all().delete()\n",
    "ProductModel.objects.all()"
   ]
  },
  {
   "cell_type": "markdown",
   "id": "eb052cd0",
   "metadata": {},
   "source": [
    "Respuesta esperada:\n",
    "     <QuerySet []>"
   ]
  },
  {
   "cell_type": "markdown",
   "id": "6c738bf8",
   "metadata": {},
   "source": [
    "#### 5 Salimos del interprete de python y regresamos a nuestro contenedor y corremos la siguiente linea para recuperar los Productos de la base de datos que borramos anteriorment:"
   ]
  },
  {
   "cell_type": "code",
   "execution_count": null,
   "id": "bd6dde1b",
   "metadata": {},
   "outputs": [],
   "source": [
    "python manage.py loaddata ecommerce/fixtures/products/500Products.json"
   ]
  },
  {
   "cell_type": "markdown",
   "id": "0fbc74ea",
   "metadata": {},
   "source": [
    "Resultado esperado:\n",
    "Installed 500 object(s) from 1 fixture(s)"
   ]
  },
  {
   "cell_type": "markdown",
   "id": "f56bebb9",
   "metadata": {},
   "source": [
    "#### 6 comprobamos que los productos esten de vuelta en nuestra base de datos"
   ]
  },
  {
   "cell_type": "code",
   "execution_count": null,
   "id": "cf141d0f",
   "metadata": {},
   "outputs": [],
   "source": [
    "python manage.py shell\n",
    "from ecommerce.models import ProductModel\n",
    "ProductModel.objects.all()"
   ]
  },
  {
   "cell_type": "markdown",
   "id": "41cadc16",
   "metadata": {},
   "source": [
    "Respuesta esperada:\n",
    "    <QuerySet [<ProductModel: Producto 494>, <ProductModel: Producto 498>, <ProductModel: Producto 497>, <ProductModel: Producto 495>, <ProductModel: Producto 491>, <ProductModel: Producto 492>, <ProductModel: Producto 493>, <ProductModel: Producto 496>, <ProductModel: Producto 499>, <ProductModel: Producto 461>, <ProductModel: Producto 457>, <ProductModel: Producto 456>, <ProductModel: Producto 459>, <ProductModel: Producto 460>, <ProductModel: Producto 458>, <ProductModel: Producto 462>, <ProductModel: Producto 453>, <ProductModel: Producto 451>, <ProductModel: Producto 450>, <ProductModel: Producto 452>, '...(remaining elements truncated)...']>"
   ]
  }
 ],
 "metadata": {
  "kernelspec": {
   "display_name": "Python 3 (ipykernel)",
   "language": "python",
   "name": "python3"
  },
  "language_info": {
   "codemirror_mode": {
    "name": "ipython",
    "version": 3
   },
   "file_extension": ".py",
   "mimetype": "text/x-python",
   "name": "python",
   "nbconvert_exporter": "python",
   "pygments_lexer": "ipython3",
   "version": "3.11.5"
  }
 },
 "nbformat": 4,
 "nbformat_minor": 5
}
