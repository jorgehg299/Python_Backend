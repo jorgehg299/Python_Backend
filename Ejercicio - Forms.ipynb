{
 "cells": [
  {
   "cell_type": "markdown",
   "id": "962a8a28",
   "metadata": {},
   "source": [
    "# 1 Crear modelo Profile"
   ]
  },
  {
   "cell_type": "markdown",
   "id": "ca9bbe78",
   "metadata": {},
   "source": [
    "- Para este caso nuestro modelo Profile va a tener una relacion uno a uno con user\n",
    "- Se añaden los cam"
   ]
  },
  {
   "cell_type": "code",
   "execution_count": null,
   "id": "d1df940e",
   "metadata": {},
   "outputs": [],
   "source": [
    "from django.contrib.auth.models import User\n",
    "from django.db import models\n",
    "\n",
    "class Profile(models.Model):\n",
    "    user = models.OneToOneField(User, on_delete=models.CASCADE)\n",
    "    phone_number = models.CharField(max_length=15, blank=True, null=True)\n",
    "    address = models.TextField(blank=True, null=True)\n",
    "\n",
    "    def __str__(self):\n",
    "        return self.user.username\n"
   ]
  },
  {
   "cell_type": "markdown",
   "id": "35a1107e",
   "metadata": {},
   "source": [
    "# 2 Creamos un ModelForm"
   ]
  },
  {
   "cell_type": "markdown",
   "id": "1b13b6e1",
   "metadata": {},
   "source": [
    "forms.py"
   ]
  },
  {
   "cell_type": "markdown",
   "id": "bb6db414",
   "metadata": {},
   "source": [
    "- Se utilizan UserRegistrationForm y ProfileForm en una sola clase\n",
    "- phone_number y address capturan y se guardan dentro del mismo formulario usando el metodo save\n",
    "- Se crea el Profile automaticamente despues de guardar el User"
   ]
  },
  {
   "cell_type": "code",
   "execution_count": null,
   "id": "3ab6a8a8",
   "metadata": {},
   "outputs": [],
   "source": [
    "from django import forms\n",
    "from django.contrib.auth.models import User\n",
    "from .models import Profile\n",
    "\n",
    "class UserRegistrationForm(forms.ModelForm):\n",
    "    password = forms.CharField(widget=forms.PasswordInput, label=\"Password\")\n",
    "    confirm_password = forms.CharField(widget=forms.PasswordInput, label=\"Confirm Password\")\n",
    "\n",
    "    phone_number = forms.CharField(max_length=15, label=\"Phone Number\", required=False)\n",
    "    address = forms.CharField(widget=forms.Textarea(attrs={\"rows\": 2}), label=\"Address\", required=False)\n",
    "\n",
    "    class Meta:\n",
    "        model = User\n",
    "        fields = ['username', 'email', 'password']\n",
    "\n",
    "    def clean(self):\n",
    "        cleaned_data = super().clean()\n",
    "        password = cleaned_data.get(\"password\")\n",
    "        confirm_password = cleaned_data.get(\"confirm_password\")\n",
    "\n",
    "        if password != confirm_password:\n",
    "            raise forms.ValidationError(\"Passwords do not match\")\n",
    "        return cleaned_data\n",
    "\n",
    "    def save(self, commit=True):\n",
    "        user = super().save(commit=False)\n",
    "        user.set_password(self.cleaned_data['password'])  # Encripta la contraseña\n",
    "        if commit:\n",
    "            user.save()  # Guarda `User`\n",
    "            Profile.objects.create(\n",
    "                user=user,\n",
    "                phone_number=self.cleaned_data.get('phone_number'),\n",
    "                address=self.cleaned_data.get('address')\n",
    "            )  # Crea `Profile` automáticamente\n",
    "        return user\n"
   ]
  },
  {
   "cell_type": "markdown",
   "id": "a0a8bee2",
   "metadata": {},
   "source": [
    "# Views.py"
   ]
  },
  {
   "cell_type": "markdown",
   "id": "f6f7f58b",
   "metadata": {},
   "source": [
    "- Usamos solo un formulario para User y Profile"
   ]
  },
  {
   "cell_type": "code",
   "execution_count": null,
   "id": "e46fabb6",
   "metadata": {},
   "outputs": [],
   "source": [
    "from django.shortcuts import render, redirect\n",
    "from .forms import UserRegistrationForm\n",
    "\n",
    "def register(request):\n",
    "    if request.method == \"POST\":\n",
    "        form = UserRegistrationForm(request.POST)\n",
    "        if form.is_valid():\n",
    "            form.save()  # Guarda `User` y `Profile` con un solo método\n",
    "            return redirect(\"forms/resgister\")  # Redirigir al login después del registro\n",
    "    else:\n",
    "        form = UserRegistrationForm()\n",
    "\n",
    "    return render(request, \"register.html\", {\"form\": form})\n"
   ]
  },
  {
   "cell_type": "markdown",
   "id": "42f7c9db",
   "metadata": {},
   "source": [
    "# Urls.py"
   ]
  },
  {
   "cell_type": "code",
   "execution_count": null,
   "id": "5fec9c49",
   "metadata": {},
   "outputs": [],
   "source": [
    "from django.urls import path\n",
    "from .views import register\n",
    "\n",
    "urlpatterns = [\n",
    "    path(\"register/\", register, name=\"register\"),\n",
    "]\n"
   ]
  }
 ],
 "metadata": {
  "kernelspec": {
   "display_name": "Python 3 (ipykernel)",
   "language": "python",
   "name": "python3"
  },
  "language_info": {
   "codemirror_mode": {
    "name": "ipython",
    "version": 3
   },
   "file_extension": ".py",
   "mimetype": "text/x-python",
   "name": "python",
   "nbconvert_exporter": "python",
   "pygments_lexer": "ipython3",
   "version": "3.11.5"
  }
 },
 "nbformat": 4,
 "nbformat_minor": 5
}
