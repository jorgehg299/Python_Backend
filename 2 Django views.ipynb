{
 "cells": [
  {
   "cell_type": "markdown",
   "id": "929e1c37",
   "metadata": {},
   "source": [
    "### Creando una Vista harcodeada"
   ]
  },
  {
   "cell_type": "markdown",
   "id": "911a8fa0",
   "metadata": {},
   "source": [
    "Vistas - Views\n",
    "- Vistas basadas en funciones \n",
    "- Vistas basadas en clases\n"
   ]
  },
  {
   "cell_type": "markdown",
   "id": "ce2327ca",
   "metadata": {},
   "source": [
    "### Como crear una aplicacion en Django"
   ]
  },
  {
   "cell_type": "markdown",
   "id": "aa7b6a9a",
   "metadata": {},
   "source": [
    "python manage.py startapp ecommerce"
   ]
  },
  {
   "cell_type": "markdown",
   "id": "23cecca5",
   "metadata": {},
   "source": [
    "funciones - nombrarlas con minusculas\n",
    "clases - nombrarlas comenzando con mayusculas"
   ]
  },
  {
   "cell_type": "markdown",
   "id": "4cb6ccff",
   "metadata": {},
   "source": [
    "### ecommerce/views.py"
   ]
  },
  {
   "cell_type": "markdown",
   "id": "fd07e709",
   "metadata": {},
   "source": [
    "from django.shortcuts import render\n",
    "from django.http import HttpResponse\n",
    "\n",
    "#Create your views here\n",
    "def home(request):\n",
    "    return HttpResponse(\"<h1>Hola Mundo</h1>\")"
   ]
  },
  {
   "cell_type": "markdown",
   "id": "c4df75fc",
   "metadata": {},
   "source": [
    "### ecommerce/urls.py"
   ]
  },
  {
   "cell_type": "markdown",
   "id": "5fc569f7",
   "metadata": {},
   "source": [
    "from django.urls import path\n",
    "from ecommerce import views\n",
    "\n",
    "# Create your views here.\n",
    "\n",
    "urlpatterns = [\n",
    "    path(\"\", views.home, name=\"home\"),\n",
    "]\n"
   ]
  },
  {
   "cell_type": "markdown",
   "id": "df8b73df",
   "metadata": {},
   "source": [
    "### Config/urls.py"
   ]
  },
  {
   "cell_type": "markdown",
   "id": "5daada2d",
   "metadata": {},
   "source": [
    "from django.contrib import admin\n",
    "from django.urls import include\n",
    "from django.urls import path\n",
    "\n",
    "urlpatterns = [\n",
    "    path(\"up/\", include(\"up.urls\")),\n",
    "    path(\"\", include(\"pages.urls\")),\n",
    "    path(\"ecommerce/\", include(\"ecommerce.urls\")),\n",
    "    path(\"admin/\", admin.site.urls),\n",
    "    path(\"__debug__/\", include(\"debug_toolbar.urls\")),\n",
    "]\n"
   ]
  },
  {
   "cell_type": "markdown",
   "id": "ddf0af34",
   "metadata": {},
   "source": [
    "## Respuesta http y redicreccionamiento"
   ]
  },
  {
   "cell_type": "markdown",
   "id": "764e421d",
   "metadata": {},
   "source": [
    "from django.shortcuts import render\n",
    "from django.http import HttpResponse, HttpResponseRedirect\n",
    "\n",
    "from .models import ProductModel\n",
    "\n",
    "def product_model_list_view(request):\n",
    "    queryset = ProductModel.objects.all()\n",
    "    print(queryset)\n",
    "    return HttpResponse(\"Un ecommerce personalizado\")"
   ]
  },
  {
   "cell_type": "markdown",
   "id": "f49fe057",
   "metadata": {},
   "source": [
    "### Crud y vistas\n",
    "\n",
    "CRUD \n",
    "- Create, Retrieve, Update, Delete(Crear, consultar, Actualizar, eliminar\n",
    "- Crear modelos\n",
    "- Agreagar la app a INSTALLED APPS\n",
    "- Crear y aplicar migraciones\n",
    "- Agregar admin"
   ]
  },
  {
   "cell_type": "markdown",
   "id": "2e15d607",
   "metadata": {},
   "source": [
    "### ecommerce/Models.py"
   ]
  },
  {
   "cell_type": "code",
   "execution_count": null,
   "id": "f9053ad5",
   "metadata": {},
   "outputs": [],
   "source": [
    "from django.db import models\n",
    "\n",
    "# Create your models here.\n",
    "class ProductModel(models.Model):\n",
    "    title = models.TextField()\n",
    "    price = models.FloatField()"
   ]
  },
  {
   "cell_type": "markdown",
   "id": "90dcce58",
   "metadata": {},
   "source": [
    "### config/settings.py"
   ]
  },
  {
   "cell_type": "code",
   "execution_count": null,
   "id": "3ed59147",
   "metadata": {},
   "outputs": [],
   "source": [
    "INSTALLED_APPS = [\n",
    "    \"pages.apps.PagesConfig\",\n",
    "    \"ecommerce.apps.EcommerceConfig\",<-----------------\n",
    "    \"debug_toolbar\",\n",
    "    \"django.contrib.admin\",\n",
    "    \"django.contrib.auth\",\n",
    "    \"django.contrib.contenttypes\",\n",
    "    \"django.contrib.sessions\",\n",
    "    \"django.contrib.messages\",\n",
    "    \"django.contrib.staticfiles\",\n",
    "    ]"
   ]
  },
  {
   "cell_type": "markdown",
   "id": "287fa0a7",
   "metadata": {},
   "source": [
    "### Como correr migraciones\n",
    "\n",
    "python manage.py makemigrations\n",
    "\n",
    "python manage.py migrate\n"
   ]
  },
  {
   "cell_type": "markdown",
   "id": "f55472d4",
   "metadata": {},
   "source": [
    "### ecommerce/admin.py"
   ]
  },
  {
   "cell_type": "markdown",
   "id": "a4f6af4c",
   "metadata": {},
   "source": [
    "from django.contrib import admin\n",
    "\n",
    "from .models import ProductModel\n",
    "\n",
    "# Register your models here.\n",
    "\n",
    "admin.site.register(ProductModel)"
   ]
  },
  {
   "cell_type": "markdown",
   "id": "cc73118a",
   "metadata": {},
   "source": [
    "### Como crear un superuser para el admin\n",
    "-python manage.py createsuperuser"
   ]
  },
  {
   "cell_type": "markdown",
   "id": "7f6480e9",
   "metadata": {},
   "source": [
    "## Tipos basicos de Vista\n"
   ]
  },
  {
   "cell_type": "markdown",
   "id": "0dabbf10",
   "metadata": {},
   "source": [
    "- List View donde ves los usuarios creados\n",
    "- Create view - donde puedes insertar los datos para crear un usuario\n",
    "- retrieve and update View - si le doy click a un usuario creado y lo modifio"
   ]
  },
  {
   "cell_type": "markdown",
   "id": "1a939e61",
   "metadata": {},
   "source": [
    "## ecommerce/urls"
   ]
  },
  {
   "cell_type": "markdown",
   "id": "fbcc603d",
   "metadata": {},
   "source": [
    "from django.urls import path\n",
    "\n",
    "from ecommerce import views\n",
    "\n",
    "url"
   ]
  },
  {
   "cell_type": "markdown",
   "id": "8954a5c7",
   "metadata": {},
   "source": [
    "### ecommerce/view.py"
   ]
  },
  {
   "cell_type": "markdown",
   "id": "db29f95e",
   "metadata": {},
   "source": [
    "from django.shortcuts import render\n",
    "from django.http import HttpResponse, HttpResponseRedirect\n",
    "\n",
    "from .models import ProductModel\n",
    "\n",
    "def product_model_list_view(request):\n",
    "    queryset = ProductModel.objects.all()\n",
    "    print(queryset)\n",
    "    return HttpResponse(\"Un ecommerce personalizado\")\n",
    "\n",
    "\n"
   ]
  },
  {
   "cell_type": "markdown",
   "id": "ada3c587",
   "metadata": {},
   "source": [
    "## Usando templates"
   ]
  },
  {
   "cell_type": "markdown",
   "id": "c31c36c3",
   "metadata": {},
   "source": [
    "### ecommerce/views"
   ]
  },
  {
   "cell_type": "markdown",
   "id": "56473e87",
   "metadata": {},
   "source": [
    "from django.shortcuts import render\n",
    "from django.http import HttpResponse, HttpResponseRedirect\n",
    "\n",
    "from .models import ProductModel\n",
    "\n",
    "def product_model_list_view(request):\n",
    "    queryset = ProductModel.objects.all()\n",
    "    print(queryset)\n",
    "    template = \"ecommerce/list-view.html\"\n",
    "    context = {\n",
    "        \"products\": queryset\n",
    "    }\n",
    "    return render(request, template, context)\n"
   ]
  },
  {
   "cell_type": "code",
   "execution_count": null,
   "id": "3d962e45",
   "metadata": {},
   "outputs": [],
   "source": []
  },
  {
   "cell_type": "markdown",
   "id": "b74244bb",
   "metadata": {},
   "source": [
    "### Templates/ecommerce/list-view.html"
   ]
  },
  {
   "cell_type": "markdown",
   "id": "c5f13898",
   "metadata": {},
   "source": [
    "<h1>\n",
    "Vista de Listado\n",
    "</h1>\n",
    "\n",
    "{% for product in products %}\n",
    "<li>\n",
    "{{ product.title }} {{ product.price }}\n",
    "</li>\n",
    "{% endfor %}"
   ]
  },
  {
   "cell_type": "markdown",
   "id": "07e0a60b",
   "metadata": {},
   "source": [
    "## Vista de detalle"
   ]
  },
  {
   "cell_type": "markdown",
   "id": "8ba67c7e",
   "metadata": {},
   "source": [
    "### ecommerce/views"
   ]
  },
  {
   "cell_type": "code",
   "execution_count": null,
   "id": "c7454828",
   "metadata": {},
   "outputs": [],
   "source": [
    "from django.contrib.auth.decorators import login_required\n",
    "from django.shortcuts import render, get_object_or_404\n",
    "from django.http import HttpResponse, HttpResponseRedirect\n",
    "\n",
    "from .models import ProductModel, CategoryModel,SubcategoryModel,ReviewModel\n",
    "\n",
    "\n",
    "def product_model_detail_view(request, product_id):\n",
    "    instance = get_object_or_404(request,id = product_id)\n",
    "    context = {\n",
    "        \"product\": instance\n",
    "    }\n",
    "    template = \"ecommerce/detail-view.html\"\n",
    "    return render(request,template,context)\n",
    "# las demas view"
   ]
  },
  {
   "cell_type": "markdown",
   "id": "469a3ea4",
   "metadata": {},
   "source": [
    "### ecommerce/urls.py"
   ]
  },
  {
   "cell_type": "code",
   "execution_count": null,
   "id": "ff3be1c6",
   "metadata": {},
   "outputs": [],
   "source": [
    "from django.urls import path\n",
    "\n",
    "from ecommerce import views\n",
    "\n",
    "urlpatterns = [\n",
    "    path(\"\", views.product_model_list_view, name=\"list\"),\n",
    "    path(\"<int:product_id>\", views.product_model_detail_view, name=\"detail\"),\n",
    "]\n"
   ]
  },
  {
   "cell_type": "markdown",
   "id": "d1b7fe3b",
   "metadata": {},
   "source": [
    "### templates/ecommerce/detail-view.html"
   ]
  },
  {
   "cell_type": "code",
   "execution_count": null,
   "id": "4ac45e80",
   "metadata": {},
   "outputs": [],
   "source": [
    "<h1>\n",
    "    {{product.title}}\n",
    "    {{product.price}}\n",
    "\n",
    "    \n",
    "\n",
    "</h1>\n"
   ]
  },
  {
   "cell_type": "markdown",
   "id": "621be916",
   "metadata": {},
   "source": [
    "### templates/ecommerce/list-view"
   ]
  },
  {
   "cell_type": "code",
   "execution_count": null,
   "id": "a01beb5c",
   "metadata": {},
   "outputs": [],
   "source": [
    "<h1>\n",
    "    Vista de Listado\n",
    "    </h1>\n",
    "    \n",
    "    {% for product in products %}\n",
    "    <li>\n",
    "    <a href=\"/ecommerce/{{ product.id }}\">{{product.title}}</a>\n",
    "    </li>\n",
    "    {% endfor %}"
   ]
  },
  {
   "cell_type": "markdown",
   "id": "57992fbb",
   "metadata": {},
   "source": [
    "## Vista de Creacion"
   ]
  },
  {
   "cell_type": "markdown",
   "id": "520c5d15",
   "metadata": {},
   "source": [
    "## ecommerce/views.py"
   ]
  },
  {
   "cell_type": "code",
   "execution_count": null,
   "id": "ef04a5f4",
   "metadata": {},
   "outputs": [],
   "source": [
    "from django.contrib.auth.decorators import login_required\n",
    "from django.contrib import messages\n",
    "from django.shortcuts import render, get_object_or_404\n",
    "from django.http import HttpResponse, HttpResponseRedirect\n",
    "\n",
    "from .forms import ProductModelForm\n",
    "from .models import ProductModel, CategoryModel,SubcategoryModel,ReviewModel\n",
    "\n",
    "# Create your views here.\n",
    "\n",
    "# @login required\n",
    "# VISTA DE ACTUALIZACION\n",
    "def product_model_update_view(request, product_id=None):\n",
    "    \n",
    "    instance = get_object_or_404(ProductModel,id = product_id)\n",
    "    form = ProductModelForm(request.POST or None, instance = instance)\n",
    "    if form.is_valid():\n",
    "        instance = form.save(commit=False)\n",
    "        instance.save()\n",
    "        messages.success(request, \"Producto actualizado con exito\")\n",
    "        return HttpResponseRedirect(\"/ecommerce/{product_id}\".format(product_id=instance.id))\n",
    "    context = {\n",
    "        \"form\":form # El contexto envia el form\n",
    "    }\n",
    "    template = \"ecommerce/update-view.html\"\n",
    "    return render(request, template, context)\n"
   ]
  },
  {
   "cell_type": "markdown",
   "id": "0407e717",
   "metadata": {},
   "source": [
    "## ecommerce/forms.py"
   ]
  },
  {
   "cell_type": "code",
   "execution_count": null,
   "id": "f26a7916",
   "metadata": {},
   "outputs": [],
   "source": [
    "from django import forms\n",
    "\n",
    "from .models import ProductModel\n",
    "\n",
    "class ProductModelForm(forms.ModelForm):\n",
    "    class Meta:\n",
    "        model = ProductModel\n",
    "        fields = [\n",
    "            \"title\",\n",
    "            \"price\"    \n",
    "        ]"
   ]
  },
  {
   "cell_type": "markdown",
   "id": "d66c352c",
   "metadata": {},
   "source": [
    "## Templates/ecommerce/create-view.html"
   ]
  },
  {
   "cell_type": "code",
   "execution_count": null,
   "id": "ed7137e3",
   "metadata": {},
   "outputs": [],
   "source": [
    "{% if messages %}\n",
    "<ul class=\"messages\">\n",
    "    {% for message in messages %}\n",
    "    <li{% if message.tags %} class=\"{{ message.tags }}\"{% endif %}>{{ message }}</li>\n",
    "    {% endfor %}\n",
    "</ul>\n",
    "{% endif %}"
   ]
  },
  {
   "cell_type": "markdown",
   "id": "88a96e8e",
   "metadata": {},
   "source": [
    "## templates/ecommerce/create-view.html"
   ]
  },
  {
   "cell_type": "code",
   "execution_count": null,
   "id": "ad58b619",
   "metadata": {},
   "outputs": [],
   "source": [
    "{% include \"ecommerce/messages.html\" %}\n",
    "\n",
    "<h1>\n",
    "    Crear un nuevo producto\n",
    "</h1>\n",
    "\n",
    "<form method = \"POST\" action=\".\"> \n",
    "{%csrf_token%}\n",
    "{{ form.as_p}}\n",
    "\n",
    "<input type= \"submit\" value=\"Crear\">\n",
    "</form>"
   ]
  },
  {
   "cell_type": "markdown",
   "id": "32d73ebd",
   "metadata": {},
   "source": [
    "## ecommerce/urls"
   ]
  },
  {
   "cell_type": "code",
   "execution_count": null,
   "id": "fc3e8c7a",
   "metadata": {},
   "outputs": [],
   "source": [
    "from django.urls import path\n",
    "\n",
    "from ecommerce import views\n",
    "\n",
    "urlpatterns = [\n",
    "    path(\"\", views.product_model_list_view, name=\"list\"),\n",
    "    path(\"<int:product_id>\", views.product_model_detail_view, name=\"detail\"),\n",
    "    path(\"create\", views.product_model_create_view, name=\"create\"),\n",
    "\n",
    "]\n"
   ]
  },
  {
   "cell_type": "markdown",
   "id": "d13c3e2e",
   "metadata": {},
   "source": [
    "## Vista Actualizacion"
   ]
  },
  {
   "cell_type": "markdown",
   "id": "c65e7ac5",
   "metadata": {},
   "source": [
    "## ecommerce/views.py"
   ]
  },
  {
   "cell_type": "code",
   "execution_count": null,
   "id": "474b2d39",
   "metadata": {},
   "outputs": [],
   "source": [
    "from django.contrib.auth.decorators import login_required\n",
    "from django.contrib import messages\n",
    "from django.shortcuts import render, get_object_or_404\n",
    "from django.http import HttpResponse, HttpResponseRedirect\n",
    "\n",
    "from .forms import ProductModelForm\n",
    "from .models import ProductModel, CategoryModel,SubcategoryModel,ReviewModel\n",
    "\n",
    "# Create your views here.\n",
    "\n",
    "# @login required\n",
    "\n",
    "def product_model_update_view(request, product_id=None):\n",
    "    form = ProductModelForm(request.POST or None)\n",
    "    instance = get_object_or_404(ProductModel,id = product_id)\n",
    "    if form.is_valid():\n",
    "        instance = form.save(commit=False)\n",
    "        instance.save()\n",
    "        messages.success(request, \"Producto actualizado con exito\")\n",
    "        return HttpResponseRedirect(\"/ecommerce/{product_id}\".format(product_id=instance.id))\n",
    "    context = {\n",
    "        \"form\":form # El contexto envia el form\n",
    "    }\n",
    "    template = \"ecommerce/update-view.html\"\n",
    "    return render(request, template, context)\n"
   ]
  },
  {
   "cell_type": "markdown",
   "id": "56e1cf57",
   "metadata": {},
   "source": [
    "### templates/ecommerce/update-view.html"
   ]
  },
  {
   "cell_type": "code",
   "execution_count": null,
   "id": "aa3a3325",
   "metadata": {},
   "outputs": [],
   "source": [
    "{% include \"ecommerce/messages.html\" %}\n",
    "<h1>\n",
    "Actualizacion de producto {{ form.instance.title }}\n",
    "</h1>    \n",
    "\n",
    "{{  form.instance.title   }}\n",
    "\n",
    "<form method = \"POST\" action=\".\"> \n",
    "    {%csrf_token%}\n",
    "    {{ form.as_p}} <!--Va a mandar un post a nuestro view y ahi se va a ejecutar la logica>Va a mandar un post a nuestro view y ahi se va a ejecutar la logica--> \n",
    "    \n",
    "    <input type= \"submit\" value=\"Actualizar\">\n",
    "    </form>"
   ]
  },
  {
   "cell_type": "markdown",
   "id": "466e7e1d",
   "metadata": {},
   "source": [
    "## ecommerce/urls.py"
   ]
  },
  {
   "cell_type": "code",
   "execution_count": null,
   "id": "e971edf1",
   "metadata": {},
   "outputs": [],
   "source": [
    "from django.urls import path\n",
    "\n",
    "from ecommerce import views\n",
    "\n",
    "urlpatterns = [\n",
    "    path(\"\", views.product_model_list_view, name=\"list\"),\n",
    "    path(\"<int:product_id>\", views.product_model_detail_view, name=\"detail\"),\n",
    "    path(\"create\", views.product_model_create_view, name=\"create\"),\n",
    "    path(\"<int:product_id>/edit/\", views.product_model_update_view, name=\"detail\"),\n",
    "\n",
    "]\n"
   ]
  },
  {
   "cell_type": "markdown",
   "id": "e31fa390",
   "metadata": {},
   "source": [
    "## Vista para eliminar"
   ]
  },
  {
   "cell_type": "markdown",
   "id": "0ec455fa",
   "metadata": {},
   "source": [
    "### ecommerce/views.py"
   ]
  },
  {
   "cell_type": "code",
   "execution_count": null,
   "id": "4dc632e8",
   "metadata": {},
   "outputs": [],
   "source": [
    "from django.contrib.auth.decorators import login_required\n",
    "from django.contrib import messages\n",
    "from django.shortcuts import render, get_object_or_404\n",
    "from django.http import HttpResponse, HttpResponseRedirect\n",
    "\n",
    "from .forms import ProductModelForm\n",
    "from .models import ProductModel, CategoryModel,SubcategoryModel,ReviewModel\n",
    "\n",
    "#Vista de Eliminar\n",
    "def product_model_delete_view(request, product_id):\n",
    "    instance = get_object_or_404(ProductModel,id = product_id)\n",
    "    if request.method == POST:\n",
    "        instance.delete()\n",
    "        HttpResponseRedirect(\"/ecommerce/\")\n",
    "        messages.success(\"Producto Eliminado\")\n",
    "    context = {\n",
    "        \"product\": instance\n",
    "    }\n",
    "    template = \"ecommerce/delete-view.html\"\n",
    "    return render(request,template,context)"
   ]
  },
  {
   "cell_type": "markdown",
   "id": "effa56fa",
   "metadata": {},
   "source": [
    "### templates/ecommerce/delete-view.html"
   ]
  },
  {
   "cell_type": "code",
   "execution_count": null,
   "id": "e3c2d077",
   "metadata": {},
   "outputs": [],
   "source": [
    "{% include \"ecommerce/messages.html\" %}\n",
    "\n",
    "<h1>\n",
    "Eliminar {{ product.title }}\n",
    "</h1>\n",
    "\n",
    "<form method = \"POST\" action=\"\"> \n",
    "{% csrf_token %}\n",
    "Estas seguro que quieres eliminar el producto?\n",
    "\n",
    "<input type= \"submit\" value=\"Eliminar\">\n",
    "<a href=\"/ecommerce/{{ product.id }}\">Cancelar</a>\n",
    "</form>"
   ]
  },
  {
   "cell_type": "markdown",
   "id": "fa62f815",
   "metadata": {},
   "source": [
    "### ecommerce/urls.py"
   ]
  },
  {
   "cell_type": "code",
   "execution_count": null,
   "id": "fe998f38",
   "metadata": {},
   "outputs": [],
   "source": [
    "from django.urls import path\n",
    "from ecommerce import views\n",
    "\n",
    "urlpatterns = [\n",
    "    path(\"\", views.product_model_list_view, name=\"list\"),\n",
    "    path(\"<int:product_id>\", views.product_model_detail_view, name=\"detail\"),\n",
    "    path(\"create\", views.product_model_create_view, name=\"create\"),\n",
    "    path(\"<int:product_id>/edit/\", views.product_model_update_view, name=\"detail\"),\n",
    "    path(\"<int:product_id>/delete/\", views.product_model_delete_view, name=\"delete\"),\n",
    "]\n"
   ]
  },
  {
   "cell_type": "markdown",
   "id": "bf4b7b6c",
   "metadata": {},
   "source": [
    "## Busqueda en la Vista de Listado"
   ]
  },
  {
   "cell_type": "markdown",
   "id": "a0a3f6e7",
   "metadata": {},
   "source": [
    "### templates/ecommerce/search.html"
   ]
  },
  {
   "cell_type": "code",
   "execution_count": 1,
   "id": "2bf801ae",
   "metadata": {},
   "outputs": [
    {
     "ename": "SyntaxError",
     "evalue": "invalid syntax (472577232.py, line 1)",
     "output_type": "error",
     "traceback": [
      "\u001b[0;36m  Cell \u001b[0;32mIn[1], line 1\u001b[0;36m\u001b[0m\n\u001b[0;31m    <form method = \"GET\" action=\"/ecommerce/\">\u001b[0m\n\u001b[0m    ^\u001b[0m\n\u001b[0;31mSyntaxError\u001b[0m\u001b[0;31m:\u001b[0m invalid syntax\n"
     ]
    }
   ],
   "source": [
    "{% include \"ecommerce/messages.html\" %}\n",
    "<form method = \"GET\" action=\"/ecommerce/\">\n",
    "    <input type = \"text\" name = \"q\" placeholder = \"Buscar\">\n",
    "</form>"
   ]
  },
  {
   "cell_type": "markdown",
   "id": "1a97dc2c",
   "metadata": {},
   "source": [
    "### templates/ecommerce/list-view.html"
   ]
  },
  {
   "cell_type": "code",
   "execution_count": null,
   "id": "7ce95793",
   "metadata": {},
   "outputs": [],
   "source": [
    "{% include \"ecommerce/search.html\" %}\n",
    "{% include \"ecommerce/messages.html\" %}\n",
    "<h1>\n",
    "    Vista de Listado\n",
    "</h1>\n",
    "    \n",
    "    {% for product in products %}\n",
    "    <li>\n",
    "    <a href=\"/ecommerce/{{ product.id }}\">{{product.title}}</a>\n",
    "    </li>\n",
    "    {% endfor %}"
   ]
  },
  {
   "cell_type": "markdown",
   "id": "8f49a9b1",
   "metadata": {},
   "source": [
    "### ecommerce/views.py"
   ]
  },
  {
   "cell_type": "code",
   "execution_count": null,
   "id": "f2bcd6fc",
   "metadata": {},
   "outputs": [],
   "source": [
    "from django.db.models import Q\n",
    "\n",
    "#....\n",
    "\n",
    "# @login_required\n",
    "def product_model_list_view(request):\n",
    "    query = request.GET.get(\"q\", None)\n",
    "    queryset = ProductModel.objects.all()\n",
    "    if query is not None:\n",
    "        queryset = queryset.filter(\n",
    "        Q(title_contains=query) | \n",
    "        Q(price_contains=query)\n",
    "        )\n",
    "    template = \"ecommerce/list-view.html\"\n",
    "    context = {\n",
    "        \"products\": queryset\n",
    "    }\n",
    "    \n",
    "    if request.user._authenticated:\n",
    "        template = \"ecommerce/list-view.html\"\n",
    "    else:\n",
    "        template = \"ecommerce/list-view-public.html\"\n",
    "    \n",
    "    return render(request, template, context)"
   ]
  },
  {
   "cell_type": "markdown",
   "id": "a5c97071",
   "metadata": {},
   "source": []
  }
 ],
 "metadata": {
  "kernelspec": {
   "display_name": "Python 3 (ipykernel)",
   "language": "python",
   "name": "python3"
  },
  "language_info": {
   "codemirror_mode": {
    "name": "ipython",
    "version": 3
   },
   "file_extension": ".py",
   "mimetype": "text/x-python",
   "name": "python",
   "nbconvert_exporter": "python",
   "pygments_lexer": "ipython3",
   "version": "3.11.5"
  }
 },
 "nbformat": 4,
 "nbformat_minor": 5
}
