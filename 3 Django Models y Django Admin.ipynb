{
 "cells": [
  {
   "cell_type": "markdown",
   "id": "f1b0efe6",
   "metadata": {},
   "source": [
    "## Hacer cambios en Modelos"
   ]
  },
  {
   "cell_type": "code",
   "execution_count": null,
   "id": "062b1701",
   "metadata": {},
   "outputs": [],
   "source": [
    "from django.db import models\n",
    "\n",
    "# Create your models here.\n",
    "class ProductModel(models.Model):\n",
    "    title = models.TextField()\n",
    "    price = models.FloatField()\n",
    "    description = models.TextField(default=\"No description provided\")  # Valor por defecto\n",
    "    short_description = models.TextField(null=True)\n",
    "    supplier = models.TextField(default=\"Unknown supplier\")            # Valor por defecto\n",
    "    color = models.CharField(max_length=30, default=\"Unknown color\")   # Valor por defecto\n",
    "    dimensions = models.CharField(max_length=100, default=\"Unknown dimensions\") "
   ]
  },
  {
   "cell_type": "markdown",
   "id": "9f0fa72d",
   "metadata": {},
   "source": [
    "On container:\n",
    "-python manage.py makemigrations\n",
    "-python manage.py makemigrations\n"
   ]
  },
  {
   "cell_type": "markdown",
   "id": "11434fb2",
   "metadata": {},
   "source": [
    "## Borrar un campo de un modelo"
   ]
  },
  {
   "cell_type": "code",
   "execution_count": null,
   "id": "69415abc",
   "metadata": {},
   "outputs": [],
   "source": [
    "from django.db import models\n",
    "\n",
    "# Create your models here.\n",
    "class ProductModel(models.Model):\n",
    "    title = models.TextField()\n",
    "    price = models.FloatField()\n",
    "    description = models.TextField(default=\"No description provided\")  # Valor por defecto\n",
    "    short_description = models.TextField(null=True)\n",
    "    supplier = models.TextField(default=\"Unknown supplier\")            # Valor por defecto\n",
    "    color = models.CharField(max_length=30, default=\"Unknown color\")   # Valor por defecto\n",
    "    dimensions = models.CharField(max_length=100, default=\"Unknown dimensions\") "
   ]
  },
  {
   "cell_type": "code",
   "execution_count": null,
   "id": "78c08a27",
   "metadata": {},
   "outputs": [],
   "source": [
    "On container:\n",
    "    python manage.py makemigrations\n",
    "  python manage.py migrate\n"
   ]
  },
  {
   "cell_type": "code",
   "execution_count": null,
   "id": "ff8bc985",
   "metadata": {},
   "outputs": [],
   "source": [
    "python manage.py squashmigrations <APP_LABEL> <MIGRATION_NUMBER>\n",
    "python manage.py squashmigrations ecommerce 0004\n",
    "python manage.py migrate"
   ]
  },
  {
   "cell_type": "markdown",
   "id": "f49a4a9c",
   "metadata": {},
   "source": [
    "## Guardando data usando shell de Django"
   ]
  },
  {
   "cell_type": "code",
   "execution_count": null,
   "id": "b7e7d0f0",
   "metadata": {},
   "outputs": [],
   "source": [
    "python manage.py shell\n",
    ">from ecommerce.models import ProductModel\n",
    ">ProductModel.objects.create(title = \"Producto 1\", price = 199.99)"
   ]
  },
  {
   "cell_type": "markdown",
   "id": "01507b90",
   "metadata": {},
   "source": [
    "#### Queryset: lista de todos los objetos almacenados para cierto modelo"
   ]
  },
  {
   "cell_type": "code",
   "execution_count": null,
   "id": "515d7e76",
   "metadata": {},
   "outputs": [],
   "source": [
    "queryset = ProductModel.objects.all()\n",
    "qs = ProductModel.objects.all()"
   ]
  },
  {
   "cell_type": "code",
   "execution_count": null,
   "id": "ad2aba9e",
   "metadata": {},
   "outputs": [],
   "source": [
    "queryset.filter(title__icontains=\"producto\")"
   ]
  },
  {
   "cell_type": "code",
   "execution_count": null,
   "id": "897fdd5a",
   "metadata": {},
   "outputs": [],
   "source": [
    "my_product = ProductModel.objects.get(id = 17)"
   ]
  },
  {
   "cell_type": "code",
   "execution_count": null,
   "id": "11032190",
   "metadata": {},
   "outputs": [],
   "source": [
    ">>> my_product = ProductModel.objects.get(id = 16)\n",
    ">>> my_product\n",
    "<ProductModel: ProductModel object (16)>\n",
    ">>> my_product.title\n",
    "'Producto 2'\n",
    ">>> my_product.description\n",
    "'Es una prueba'\n",
    ">>> my_product.price\n",
    "199.99\n",
    ">>> my_product.price = 249.99\n",
    ">>> my_product.price\n",
    "249.99\n",
    ">>> my_product.save()\n",
    ">>> exit()\n"
   ]
  },
  {
   "cell_type": "markdown",
   "id": "d504a028",
   "metadata": {},
   "source": [
    "## Validacion de campos en los modelos"
   ]
  },
  {
   "cell_type": "markdown",
   "id": "958ed0d6",
   "metadata": {},
   "source": [
    "### ecommerce/validators"
   ]
  },
  {
   "cell_type": "code",
   "execution_count": null,
   "id": "dae83222",
   "metadata": {},
   "outputs": [],
   "source": [
    "from django.core.exceptions import ValidationError\n",
    "\n",
    "BLOCKED_WORDS = [\n",
    "    \"barato\",\n",
    "    \"malo\"\n",
    "]\n",
    "\n",
    "def validate_blocked_words(value):\n",
    "    init_string = f\"{value}\".lower()\n",
    "    unique_words = set(init_string.split())\n",
    "    blocked_words = set(BLOCKED_WORDS)\n",
    "    invalid_words = (unique_words & blocked_words)\n",
    "    has_error = len(invalid_words) > 0\n",
    "    if has_error:\n",
    "        errors = []\n",
    "        for invalid_word in invalid_words:\n",
    "            msg = \"{} es una palabra no permitida\".format(invalid_word)\n",
    "            errors.append(msg)\n",
    "        raise ValidationError(errors)\n",
    "    return value\n"
   ]
  },
  {
   "cell_type": "markdown",
   "id": "1def0d90",
   "metadata": {},
   "source": [
    "## ecommerce/models.py"
   ]
  },
  {
   "cell_type": "code",
   "execution_count": null,
   "id": "d8b7189d",
   "metadata": {},
   "outputs": [],
   "source": [
    "from django.db import models\n",
    "from .validators import validate_blocked_words\n",
    "\n",
    "class ProductModel(models.Model):\n",
    "    title = models.CharField(max_length=255)\n",
    "    price = models.DecimalField(max_digits=10, decimal_places=2)\n",
    "    description = models.TextField(null=True, blank=True)\n",
    "    seller = models.CharField(max_length=255, null=True, blank=True)\n",
    "    color = models.CharField(max_length=50, null=True, blank=True)\n",
    "    product_dimensions = models.CharField(max_length=100, null=True, blank=True)\n",
    "\n",
    "    def __str__(self):\n",
    "        return self.title\n",
    "    def save(self, *args, **kwargs):\n",
    "        validate_blocked_words(self.title)\n",
    "        validate_blocked_words(self.description)\n",
    "        super().save(*args, **kwargs)\n",
    "    \n"
   ]
  },
  {
   "cell_type": "markdown",
   "id": "64309466",
   "metadata": {},
   "source": [
    "## como agregar opciones a los campos de nuestros Modelos"
   ]
  },
  {
   "cell_type": "code",
   "execution_count": null,
   "id": "5e186074",
   "metadata": {},
   "outputs": [],
   "source": [
    "from django.db import models\n",
    "from .validators import validate_blocked_words\n",
    "\n",
    "# [(VALOR_EN_DB, VALOR_PARA_USUARIO)]\n",
    "PUBLISH_STATE_CHOICES = [\n",
    "    (\"BR\", \"BORRADOR\"),\n",
    "    (\"PU\", \"PUBLICADO\"),\n",
    "    (\"PR\", \"PRIVADO\"),\n",
    "]\n",
    "\n",
    "class ProductModel(models.Model):\n",
    "    state = models.CharField(\n",
    "        max_length=2,\n",
    "        choices=PUBLISH_STATE_CHOICES,\n",
    "        default=\"BR\"\n",
    "    )\n",
    "    title = models.CharField(max_length=255)\n",
    "    price = models.DecimalField(max_digits=10, decimal_places=2)\n",
    "    description = models.TextField(null=True, blank=True)\n",
    "    seller = models.CharField(max_length=255, null=True, blank=True)\n",
    "    color = models.CharField(max_length=50, null=True, blank=True)\n",
    "    product_dimensions = models.CharField(max_length=100, null=True, blank=True)\n",
    "\n",
    "    def __str__(self):\n",
    "        return self.title\n",
    "    def save(self, *args, **kwargs):\n",
    "        validate_blocked_words(self.title)\n",
    "        validate_blocked_words(self.description)\n",
    "        super().save(*args, **kwargs)\n",
    "    \n",
    "    def is_published(self):\n",
    "        return self.state == \"PU\""
   ]
  },
  {
   "cell_type": "code",
   "execution_count": null,
   "id": "3b7cc41f",
   "metadata": {},
   "outputs": [],
   "source": [
    "python manage.py makemigrations\n",
    "python manage.py migrate"
   ]
  },
  {
   "cell_type": "markdown",
   "id": "0fdb7e12",
   "metadata": {},
   "source": [
    "## Como agregar opciones avanzadas a los campos de nuestros Modelos"
   ]
  },
  {
   "cell_type": "code",
   "execution_count": null,
   "id": "7adcc7d6",
   "metadata": {},
   "outputs": [],
   "source": [
    "from django.db import models\n",
    "from .validators import validate_blocked_words\n",
    "\n",
    "\n",
    "class ProductModel(models.Model):\n",
    "    class ProductStateOptions(models.TextChoices):\n",
    "        PUBLISHED = \"PU\", \"PUBLICADO\"\n",
    "        DRAFT = \"BR\", \"BORRADOR\"\n",
    "        PRIVATE = \"PR\", \"PRIVADO\"\n",
    "\n",
    "    state = models.CharField(\n",
    "        max_length=2, \n",
    "        choices=ProductStateOptions.choices, \n",
    "        default=ProductStateOptions.DRAFT\n",
    "    )\n",
    "    title = models.CharField(max_length=255)\n",
    "    price = models.DecimalField(max_digits=10, decimal_places=2)\n",
    "    description = models.TextField(null=True, blank=True)\n",
    "    seller = models.CharField(max_length=255, null=True, blank=True)\n",
    "    color = models.CharField(max_length=50, null=True, blank=True)\n",
    "    product_dimensions = models.CharField(max_length=100, null=True, blank=True)\n",
    "\n",
    "    def __str__(self):\n",
    "        return self.title\n",
    "\n",
    "    def save(self, *args, **kwargs):\n",
    "        validate_blocked_words(self.title)\n",
    "        validate_blocked_words(self.description)\n",
    "        super().save(*args, **kwargs)\n",
    "\n",
    "    def is_published(self):\n",
    "        return self.state == \"PU\"\n"
   ]
  },
  {
   "cell_type": "code",
   "execution_count": null,
   "id": "9649ffa3",
   "metadata": {},
   "outputs": [],
   "source": [
    "python manage.py makemigrations\n",
    "python manage.py migrate"
   ]
  },
  {
   "cell_type": "markdown",
   "id": "8478ef05",
   "metadata": {},
   "source": [
    "## Modelo Abstracto como base"
   ]
  },
  {
   "cell_type": "code",
   "execution_count": null,
   "id": "23010e22",
   "metadata": {},
   "outputs": [],
   "source": [
    "python manage.py startapp base"
   ]
  },
  {
   "cell_type": "markdown",
   "id": "f3afe824",
   "metadata": {},
   "source": [
    "## base/models.py"
   ]
  },
  {
   "cell_type": "code",
   "execution_count": null,
   "id": "f697a272",
   "metadata": {},
   "outputs": [],
   "source": [
    "from django.db import models\n",
    "from django.utils import timezone\n",
    "\n",
    "class BasePublishModel(models.Model):\n",
    "    class PublishStateOptions(models.TextChoices):\n",
    "        PUBLISHED = \"PU\", \"PUBLICADO\"\n",
    "        DRAFT = \"BR\", \"BORRADOR\"\n",
    "        PRIVATE = \"PR\", \"PRIVADO\"\n",
    "\n",
    "    state = models.CharField(\n",
    "        max_length=2,\n",
    "        choices=PublishStateOptions.choices,\n",
    "        default=PublishStateOptions.DRAFT\n",
    "    )\n",
    "    timestamp = models.DateTimeField(auto_now_add=True)\n",
    "    updated = models.DateTimeField(auto_now=True)\n",
    "    publish_timestamp = models.DateTimeField(auto_now=False, null=True)\n",
    "\n",
    "    class Meta:\n",
    "        abstract = True\n",
    "        ordering = [\"-updated\", \"-timestamp\"]\n",
    "\n",
    "    def save(self, *args, **kwargs):\n",
    "        if self.state_is_published and self.publish_timestamp is None:\n",
    "            self.publish_timestamp = timezone.now()\n",
    "        elif not self.state_is_published:\n",
    "            self.publish_timestamp = None\n",
    "        super().save(*args, **kwargs)\n",
    "\n",
    "    @property\n",
    "    def state_is_published(self):\n",
    "        return self.state == self.PublishStateOptions.PUBLISHED\n",
    "\n",
    "    def is_published(self):\n",
    "        publish_timestamp = self.publish_timestamp\n",
    "        return self.state_is_published and publish_timestamp < timezone.now()\n"
   ]
  },
  {
   "cell_type": "markdown",
   "id": "e0145ca6",
   "metadata": {},
   "source": [
    "### ecommerce/models.py"
   ]
  },
  {
   "cell_type": "code",
   "execution_count": null,
   "id": "bb40e7ed",
   "metadata": {},
   "outputs": [],
   "source": [
    "from django.db import models\n",
    "from .validators import validate_blocked_words\n",
    "from base.models import BasePublishModel\n",
    "\n",
    "class ProductModel(BasePublishModel):\n",
    "    \n",
    "    title = models.CharField(max_length=255)\n",
    "    price = models.DecimalField(max_digits=10, decimal_places=2)\n",
    "    description = models.TextField(null=True, blank=True)\n",
    "    seller = models.CharField(max_length=255, null=True, blank=True)\n",
    "    color = models.CharField(max_length=50, null=True, blank=True)\n",
    "    product_dimensions = models.CharField(max_length=100, null=True, blank=True)\n",
    "\n",
    "    def __str__(self):\n",
    "        return self.title\n",
    "\n",
    "    def save(self, *args, **kwargs):\n",
    "        validate_blocked_words(self.title)\n",
    "        validate_blocked_words(self.description)\n",
    "        super().save(*args, **kwargs)\n"
   ]
  },
  {
   "cell_type": "markdown",
   "id": "fa3e8ed3",
   "metadata": {
    "collapsed": true
   },
   "source": [
    "### config/settings.py"
   ]
  },
  {
   "cell_type": "code",
   "execution_count": null,
   "id": "24320def",
   "metadata": {},
   "outputs": [],
   "source": [
    "INSTALLED_APPS = [\n",
    "    \"pages.apps.PagesConfig\",\n",
    "    \"ecommerce.apps.EcommerceConfig\",\n",
    "    \"base.apps.BaseConfig\",\n",
    "    \"debug_toolbar\",\n",
    "    \"django.contrib.admin\",\n",
    "    \"django.contrib.auth\",\n",
    "    \"django.contrib.contenttypes\",\n",
    "    \"django.contrib.sessions\",\n",
    "    \"django.contrib.messages\",\n",
    "    \"django.contrib.staticfiles\",\n",
    "]"
   ]
  },
  {
   "cell_type": "code",
   "execution_count": null,
   "id": "cb5a727a",
   "metadata": {},
   "outputs": [],
   "source": [
    "python manage.py makemigrations\n",
    "python manage.py migrate"
   ]
  },
  {
   "cell_type": "markdown",
   "id": "3cfd5448",
   "metadata": {},
   "source": [
    "## Creacion a Granel/Bulk creation"
   ]
  },
  {
   "cell_type": "code",
   "execution_count": null,
   "id": "f446e515",
   "metadata": {},
   "outputs": [],
   "source": [
    "python manage.py shell"
   ]
  },
  {
   "cell_type": "code",
   "execution_count": null,
   "id": "8700b679",
   "metadata": {},
   "outputs": [],
   "source": [
    "products_data = []\n",
    "for i in range(1, 100):\n",
    "    new_data = {\"title\": \"Producto {}\".format(i), \"price\": i*100+99.99}\n",
    "    products_data.append(new_data)"
   ]
  },
  {
   "cell_type": "code",
   "execution_count": null,
   "id": "b068a73a",
   "metadata": {},
   "outputs": [],
   "source": [
    "from ecommerce.models import ProductModel\n",
    "new_objects = []\n",
    "for product_data in products_data:\n",
    "    print(product_data)\n",
    "    new_objects.append(ProductModel(**product_data))"
   ]
  },
  {
   "cell_type": "code",
   "execution_count": null,
   "id": "d56be14a",
   "metadata": {},
   "outputs": [],
   "source": [
    "ProductModel.objects.bulk_create(new_objects, ignore_conflicts = True)"
   ]
  },
  {
   "cell_type": "markdown",
   "id": "3905bdc5",
   "metadata": {},
   "source": [
    "## Slugfield y Senales en Modelos"
   ]
  },
  {
   "cell_type": "code",
   "execution_count": null,
   "id": "dfe633b3",
   "metadata": {},
   "outputs": [],
   "source": [
    "slug: se usa para los urls\n",
    "title: escritorio con altura ajustable\n",
    "slug: /escritorio-con-altura-ajustable\n",
    "url: www.mywebsite.com/escritorio-con-altura-ajustable\n",
    "url:www.mywebsite.com/1"
   ]
  },
  {
   "cell_type": "markdown",
   "id": "64757c09",
   "metadata": {},
   "source": [
    "Signals / Senales\n",
    "- pre_save\n",
    "- post_save\n",
    "- pre_delete\n",
    "- post_delete\n",
    "- pre_init\n",
    "- post_init\n",
    "- pre_migrate\n",
    "- post_migrate"
   ]
  },
  {
   "cell_type": "markdown",
   "id": "e4a05864",
   "metadata": {},
   "source": [
    "### Ver signals disponibles"
   ]
  },
  {
   "cell_type": "code",
   "execution_count": null,
   "id": "01a85cdc",
   "metadata": {},
   "outputs": [],
   "source": [
    "python manage.py shell\n",
    "from django.db.models import signals\n",
    "dir(signals)"
   ]
  },
  {
   "cell_type": "code",
   "execution_count": null,
   "id": "e7b62d7d",
   "metadata": {},
   "outputs": [],
   "source": [
    "['ModelSignal', \n",
    " 'Signal',\n",
    " '__builtins__', \n",
    " '__cached__', \n",
    " '__doc__', \n",
    " '__file__', \n",
    " '__loader__', \n",
    " '__name__', \n",
    " '__package__', \n",
    " '__spec__', \n",
    " 'class_prepared', \n",
    " 'm2m_changed', \n",
    " 'make_model_tuple', \n",
    " 'partial', \n",
    " 'post_delete', \n",
    " 'post_init', \n",
    " 'post_migrate', \n",
    " 'post_save', \n",
    " 'pre_delete', \n",
    " 'pre_init', \n",
    " 'pre_migrate',\n",
    " 'pre_save']"
   ]
  },
  {
   "cell_type": "markdown",
   "id": "4da97ad9",
   "metadata": {},
   "source": [
    "### ecommerce/models.py"
   ]
  },
  {
   "cell_type": "code",
   "execution_count": null,
   "id": "9ebb9ac9",
   "metadata": {},
   "outputs": [],
   "source": [
    "from django.db import models\n",
    "from django.db.models.signals import pre_save\n",
    "from django.utils.text import slugify\n",
    "\n",
    "from base.models import BasePublishModel\n",
    "from .validators import validate_blocked_words\n",
    "\n",
    "class ProductModel(BasePublishModel):\n",
    "    title = models.TextField()\n",
    "    price = models.FloatField()\n",
    "    description = models.TextField(null=True)\n",
    "    slug = models.SlugField(null=True, blank=True, db_index=True)\n",
    "    seller = models.CharField(max_length=255, null=True, blank=True)\n",
    "    color = models.CharField(max_length=50, null=True, blank=True)\n",
    "    product_dimensions = models.CharField(max_length=100, null=True, blank=True)\n",
    "\n",
    "\n",
    "    def __str__(self):\n",
    "        return self.title\n",
    "\n",
    "    def get_absolute_url(self):\n",
    "        return f\"/product/{self.slug}\"\n",
    "\n",
    "    def save(self, *args, **kwargs):\n",
    "        validate_blocked_words(self.title)\n",
    "        super().save(*args, **kwargs)\n",
    "\n",
    "\n",
    "# Signal for generating unique slugs\n",
    "def slugify_pre_save(sender, instance, *args, **kwargs):\n",
    "    if instance.slug is None or instance.slug == \"\":\n",
    "        new_slug = slugify(instance.title)\n",
    "        MyClass = instance.__class__\n",
    "        qs = MyClass.objects.filter(slug__startwith=new_slug).exclude(id=instance.id)\n",
    "        if qs.count() == 0:\n",
    "            instance.slug = new_slug\n",
    "        else:\n",
    "            instance.slug = f\"{new_slug}-{qs.count()}\"\n",
    "\n",
    "pre_save.connect(slugify_pre_save, sender=ProductModel)"
   ]
  },
  {
   "cell_type": "code",
   "execution_count": null,
   "id": "67657d02",
   "metadata": {},
   "outputs": [],
   "source": [
    "python manage.py makemigrations\n",
    "python manage.py migrate"
   ]
  },
  {
   "cell_type": "markdown",
   "id": "66847819",
   "metadata": {},
   "source": [
    "#### Prueba para crear y ver slugs (prompt)"
   ]
  },
  {
   "cell_type": "code",
   "execution_count": null,
   "id": "d710b0d2",
   "metadata": {},
   "outputs": [],
   "source": [
    "from ecommerce.models import ProductModel\n",
    "obj1 = ProductModel.objects.create(title = \"Producto test slug\", price = 199.99)\n",
    "obj1.slug\n",
    "obj1.slug = \"\"\n",
    "obj1.slug\n",
    "obj1.save()\n",
    "obj1.slug\n",
    "\n",
    "obj2 = ProductModel.objects.create(title = \"Producto test slug\", price = 199.99)\n",
    "obj2.slug\n",
    "obj3 = ProductModel.objects.create(title = \"Producto test slug\", price = 199.99)\n",
    "obj3.slug\n",
    "obj4 = ProductModel.objects.create(title = \"Producto test slug\", price = 199.99)\n",
    "obj4.slug"
   ]
  },
  {
   "cell_type": "markdown",
   "id": "5408c62c",
   "metadata": {},
   "source": [
    "### Fixtoures para Cargar Data"
   ]
  },
  {
   "cell_type": "code",
   "execution_count": null,
   "id": "d203bba7",
   "metadata": {},
   "outputs": [],
   "source": [
    "python manage.py dumpdata ecommerce --indent 4 --format json"
   ]
  },
  {
   "cell_type": "code",
   "execution_count": null,
   "id": "25533f0a",
   "metadata": {},
   "outputs": [],
   "source": [
    "python manage.py dumpdata ecommerce --indent 4 --format json > ecommerce/fixtures/ProductModel.json"
   ]
  },
  {
   "cell_type": "code",
   "execution_count": null,
   "id": "556f5b14",
   "metadata": {},
   "outputs": [],
   "source": [
    "python manage.py loaddata ecommerce/fixtures/ProductModel.json"
   ]
  },
  {
   "cell_type": "markdown",
   "id": "625ef2f9",
   "metadata": {},
   "source": [
    "#### Eliminar lo que esta ligado a nuestra base de datos (prompt)"
   ]
  },
  {
   "cell_type": "markdown",
   "id": "0b55ed7a",
   "metadata": {},
   "source": [
    "from ecommerce.models import ProductModel\n",
    "ProductModel.objects.all()\n",
    "ProductModel.objects.all().delete()\n",
    "ProductModel.objects.all()"
   ]
  },
  {
   "cell_type": "markdown",
   "id": "5d2e9d43",
   "metadata": {},
   "source": [
    "#### Llenar la base de datos a partir del fixture"
   ]
  },
  {
   "cell_type": "markdown",
   "id": "0087c4ab",
   "metadata": {},
   "source": [
    "python manage.py loaddata ecommerce/fixtures/ProductModel.json"
   ]
  },
  {
   "cell_type": "markdown",
   "id": "5a1dd464",
   "metadata": {},
   "source": [
    "### Llaves foraneas en modelos"
   ]
  },
  {
   "cell_type": "markdown",
   "id": "fb22d5a6",
   "metadata": {},
   "source": [
    "### ecommerce/models.py"
   ]
  },
  {
   "cell_type": "code",
   "execution_count": null,
   "id": "044855e6",
   "metadata": {},
   "outputs": [],
   "source": [
    "from django.conf import settings\n",
    "from django.db import models\n",
    "from django.db.models.signals import pre_save\n",
    "from django.utils.text import slugify\n",
    "\n",
    "from base.models import BasePublishModel\n",
    "from .validators import validate_blocked_words\n",
    "\n",
    "## User ya esta en django\n",
    "User = settings.AUTH_USER_MODEL\n",
    "\n",
    "\n",
    "class ProductModel(BasePublishModel):\n",
    "    title = models.TextField()\n",
    "    price = models.FloatField()\n",
    "    description = models.TextField(null=True)\n",
    "    slug = models.SlugField(null=True, blank=True, db_index=True)\n",
    "    seller = models.CharField(max_length=255, null=True, blank=True)\n",
    "    color = models.CharField(max_length=50, null=True, blank=True)\n",
    "    product_dimensions = models.CharField(max_length=100, null=True, blank=True)\n",
    "    user = models.ForeignKey(User, null = True, on_delete= models.SET_NULL)\n",
    "    def __str__(self):\n",
    "        return self.title\n",
    "\n",
    "    def get_absolute_url(self):\n",
    "        return f\"/product/{self.slug}\"\n",
    "\n",
    "    def save(self, *args, **kwargs):\n",
    "        validate_blocked_words(self.title)\n",
    "        super().save(*args, **kwargs)\n",
    "\n",
    "\n",
    "# Signal for generating unique slugs\n",
    "def slugify_pre_save(sender, instance, *args, **kwargs):\n",
    "    if instance.slug is None or instance.slug == \"\":\n",
    "        new_slug = slugify(instance.title)\n",
    "        MyClass = instance.__class__\n",
    "        qs = MyClass.objects.filter(slug__startwith=new_slug).exclude(id=instance.id)\n",
    "        if qs.count() == 0:\n",
    "            instance.slug = new_slug\n",
    "        else:\n",
    "            instance.slug = f\"{new_slug}-{qs.count()}\"\n",
    "\n",
    "pre_save.connect(slugify_pre_save, sender=ProductModel)"
   ]
  },
  {
   "cell_type": "code",
   "execution_count": null,
   "id": "b5592e87",
   "metadata": {},
   "outputs": [],
   "source": [
    "python manage.py makemigrations"
   ]
  },
  {
   "cell_type": "code",
   "execution_count": null,
   "id": "5e12c5da",
   "metadata": {},
   "outputs": [],
   "source": [
    "python manage.py migrate"
   ]
  },
  {
   "cell_type": "markdown",
   "id": "4e6d6cf4",
   "metadata": {},
   "source": [
    "#### Prueba de Llaves foraneas"
   ]
  },
  {
   "cell_type": "code",
   "execution_count": null,
   "id": "8573eb1d",
   "metadata": {},
   "outputs": [],
   "source": [
    "python manage.py shell\n",
    "from django.contrib.auth import get_user_model\n",
    "from ecommerce.models import ProductModel\n",
    "User = get_user_model()\n",
    "my_user = User.objects.first()\n",
    "\n",
    "ProductModel.objects.create(user=my_user, title=\"Producto con Usuario\", price=599.99)\n",
    "ProductModel.objects.create(user=my_user, title=\"Producto con Usuario\", price=599.99)\n",
    "ProductModel.objects.create(user=my_user, title=\"Producto con Usuario\", price=599.99)\n",
    "\n",
    "my_user.productmodel_set.all()\n",
    "\n",
    "qs = ProductModel.objects.filter(user = my_user)\n",
    "qs\n",
    "\n",
    "qs.count()\n",
    "\n",
    "\n",
    "\n",
    "\n"
   ]
  }
 ],
 "metadata": {
  "kernelspec": {
   "display_name": "Python 3 (ipykernel)",
   "language": "python",
   "name": "python3"
  },
  "language_info": {
   "codemirror_mode": {
    "name": "ipython",
    "version": 3
   },
   "file_extension": ".py",
   "mimetype": "text/x-python",
   "name": "python",
   "nbconvert_exporter": "python",
   "pygments_lexer": "ipython3",
   "version": "3.11.5"
  }
 },
 "nbformat": 4,
 "nbformat_minor": 5
}
