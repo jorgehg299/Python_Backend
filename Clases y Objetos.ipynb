{
 "cells": [
  {
   "cell_type": "code",
   "execution_count": 39,
   "id": "1b9a677b",
   "metadata": {},
   "outputs": [],
   "source": [
    "class ShoppingCart:\n",
    "    super_attribute = \"atributo de la superclase / Clase Padre \"\n",
    "    def __init__(self):\n",
    "        self.items = {}  #La creacion de este diccionario es para guardar los productos\n",
    "        print(\"Inicialiazacion de la super clase / Clase Padre\")\n",
    "    def add_item(self, product_id, quantity):\n",
    "        print(\"metodo de la Super Clase para anadir producto\")\n",
    "        if product_id in self.items:\n",
    "            self.items[product_id] += quantity\n",
    "        else:\n",
    "            self.items[product_id] = quantity\n",
    "\n",
    "    def remove_item(self, product_id):\n",
    "        print(\"metodo de la Super Clase para remover items del carrito\") \n",
    "        if product_id in self.items:\n",
    "            del self.items[product_id]\n",
    "        else:\n",
    "            print(\"Item no se encuentra en el carrito.\")\n",
    "            \n",
    "\n",
    "    def view_cart(self):\n",
    "        print(\"metodo de la Super Clase para visualizar el shopping cart\") \n",
    "        if not self.items:\n",
    "            print(\"Carrito esta vacio.\")\n",
    "        else:\n",
    "            print(\"Shopping Cart:\")\n",
    "            for product_id, quantity in self.items.items():\n",
    "                print(f\"Product ID: {product_id}, Quantity: {quantity}\")\n"
   ]
  },
  {
   "cell_type": "code",
   "execution_count": 42,
   "id": "e39e5867",
   "metadata": {},
   "outputs": [],
   "source": [
    "class DiscountShoppingCart(ShoppingCart):\n",
    "    sub_attribute = \"Atributo de la subclase\"\n",
    "    def __init__(self):\n",
    "        super().__init__()\n",
    "        print(\"Inicializacion de sub clase de shopping cart\")\n",
    "\n",
    "    def Discount(self,rate):\n",
    "        print(\"'')"
   ]
  },
  {
   "cell_type": "code",
   "execution_count": 34,
   "id": "0aea00a8",
   "metadata": {},
   "outputs": [
    {
     "name": "stdout",
     "output_type": "stream",
     "text": [
      "Inicialiazacion de la super clase / Clase Padre\n"
     ]
    }
   ],
   "source": [
    "sc1 = ShoppingCart()"
   ]
  },
  {
   "cell_type": "code",
   "execution_count": 35,
   "id": "10eb8fd3",
   "metadata": {},
   "outputs": [
    {
     "name": "stdout",
     "output_type": "stream",
     "text": [
      "metodo de la Super Clase para anadir producto\n"
     ]
    }
   ],
   "source": [
    "sc1.add_item(\"0001\", 2)"
   ]
  },
  {
   "cell_type": "code",
   "execution_count": 36,
   "id": "7907874c",
   "metadata": {},
   "outputs": [
    {
     "name": "stdout",
     "output_type": "stream",
     "text": [
      "metodo de la Super Clase para visualizar el shopping cart\n",
      "Shopping Cart:\n",
      "Product ID: 0001, Quantity: 2\n"
     ]
    }
   ],
   "source": [
    "sc1.view_cart()"
   ]
  },
  {
   "cell_type": "code",
   "execution_count": 37,
   "id": "9304692f",
   "metadata": {},
   "outputs": [],
   "source": [
    "sc1.remove_item(\"0001\")"
   ]
  },
  {
   "cell_type": "code",
   "execution_count": 38,
   "id": "45a19855",
   "metadata": {},
   "outputs": [
    {
     "name": "stdout",
     "output_type": "stream",
     "text": [
      "metodo de la Super Clase para visualizar el shopping cart\n",
      "Your cart is empty.\n"
     ]
    }
   ],
   "source": [
    "sc1.view_cart()"
   ]
  },
  {
   "cell_type": "code",
   "execution_count": 43,
   "id": "c08efc5e",
   "metadata": {},
   "outputs": [
    {
     "name": "stdout",
     "output_type": "stream",
     "text": [
      "Inicialiazacion de la super clase / Clase Padre\n",
      "Inicializacion de sub clase de shopping cart\n"
     ]
    }
   ],
   "source": [
    "sc2 = DiscountShoppingCart()"
   ]
  },
  {
   "cell_type": "code",
   "execution_count": 44,
   "id": "27fc04d6",
   "metadata": {},
   "outputs": [
    {
     "name": "stdout",
     "output_type": "stream",
     "text": [
      "metodo de la Super Clase para anadir producto\n"
     ]
    }
   ],
   "source": [
    "sc2.add_item(\"0002\", 5)"
   ]
  },
  {
   "cell_type": "code",
   "execution_count": 45,
   "id": "1eb82597",
   "metadata": {},
   "outputs": [
    {
     "name": "stdout",
     "output_type": "stream",
     "text": [
      "metodo de la Super Clase para visualizar el shopping cart\n",
      "Shopping Cart:\n",
      "Product ID: 0002, Quantity: 5\n"
     ]
    }
   ],
   "source": [
    "sc2.view_cart()"
   ]
  },
  {
   "cell_type": "code",
   "execution_count": 46,
   "id": "ab4fa73a",
   "metadata": {},
   "outputs": [
    {
     "name": "stdout",
     "output_type": "stream",
     "text": [
      "This is a discount cart\n"
     ]
    }
   ],
   "source": [
    "sc2.Discount()"
   ]
  }
 ],
 "metadata": {
  "kernelspec": {
   "display_name": "Python 3 (ipykernel)",
   "language": "python",
   "name": "python3"
  },
  "language_info": {
   "codemirror_mode": {
    "name": "ipython",
    "version": 3
   },
   "file_extension": ".py",
   "mimetype": "text/x-python",
   "name": "python",
   "nbconvert_exporter": "python",
   "pygments_lexer": "ipython3",
   "version": "3.11.5"
  }
 },
 "nbformat": 4,
 "nbformat_minor": 5
}
