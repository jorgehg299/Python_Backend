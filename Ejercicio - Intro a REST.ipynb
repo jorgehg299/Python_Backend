{
 "cells": [
  {
   "cell_type": "markdown",
   "id": "11a91532",
   "metadata": {},
   "source": [
    " - Para la creacion de un crud e interactuar con esto de la API REST de Django comenzamos con la creacion del modelo de \"Product\""
   ]
  },
  {
   "cell_type": "markdown",
   "id": "f8e579a2",
   "metadata": {},
   "source": [
    "# 1. Modelo de Product"
   ]
  },
  {
   "cell_type": "code",
   "execution_count": null,
   "id": "21fe5d78",
   "metadata": {},
   "outputs": [],
   "source": [
    "from django.db import models\n",
    "\n",
    "class Product(models.Model):\n",
    "    name = models.CharField(max_length=255)\n",
    "    description = models.TextField(blank=True, null=True)\n",
    "    price = models.DecimalField(max_digits=10, decimal_places=2)\n",
    "    stock = models.PositiveIntegerField()\n",
    "\n",
    "    def __str__(self):\n",
    "        return self.name\n"
   ]
  },
  {
   "cell_type": "markdown",
   "id": "ca8434d9",
   "metadata": {},
   "source": [
    "# 2 Ejecutamos las migraciones despues de crearlo:"
   ]
  },
  {
   "cell_type": "code",
   "execution_count": null,
   "id": "fcc866f7",
   "metadata": {},
   "outputs": [],
   "source": [
    "python manage.py makemigrations\n",
    "python manage.py migrate\n"
   ]
  },
  {
   "cell_type": "markdown",
   "id": "9897697f",
   "metadata": {},
   "source": [
    "# 3 Creamos un archivo serializador para convertir los objetos Python a JSON"
   ]
  },
  {
   "cell_type": "code",
   "execution_count": null,
   "id": "e526f754",
   "metadata": {},
   "outputs": [],
   "source": [
    "from rest_framework import serializers\n",
    "from .models import Product\n",
    "\n",
    "class ProductSerializer(serializers.ModelSerializer):\n",
    "    class Meta:\n",
    "        model = Product\n",
    "        fields = '__all__'\n"
   ]
  },
  {
   "cell_type": "markdown",
   "id": "2d6b50f3",
   "metadata": {},
   "source": [
    "# 4. Vistas con APIView"
   ]
  },
  {
   "cell_type": "markdown",
   "id": "e242da51",
   "metadata": {},
   "source": [
    "Implementamos los metodos:\n",
    "- GET\n",
    "- POST\n",
    "- PUT\n",
    "- DELETE"
   ]
  },
  {
   "cell_type": "code",
   "execution_count": null,
   "id": "86a89b56",
   "metadata": {},
   "outputs": [],
   "source": [
    "from rest_framework import views, status\n",
    "from rest_framework.response import Response\n",
    "from .models import Product\n",
    "from .serializers import ProductSerializer\n",
    "\n",
    "class ProductAPIView(views.APIView):\n",
    "\n",
    "    def get(self, request, pk=None):\n",
    "        \"\"\"Obtener lista de productos o un solo producto por ID\"\"\"\n",
    "        if pk:\n",
    "            try:\n",
    "                product = Product.objects.get(pk=pk)\n",
    "                serializer = ProductSerializer(product)\n",
    "                return Response(serializer.data)\n",
    "            except Product.DoesNotExist:\n",
    "                return Response({\"error\": \"Producto no encontrado\"}, status=status.HTTP_404_NOT_FOUND)\n",
    "        \n",
    "        products = Product.objects.all()\n",
    "        serializer = ProductSerializer(products, many=True)\n",
    "        return Response(serializer.data)\n",
    "\n",
    "    def post(self, request):\n",
    "        \"\"\"Crear un nuevo producto\"\"\"\n",
    "        serializer = ProductSerializer(data=request.data)\n",
    "        if serializer.is_valid():\n",
    "            serializer.save()\n",
    "            return Response(serializer.data, status=status.HTTP_201_CREATED)\n",
    "        return Response(serializer.errors, status=status.HTTP_400_BAD_REQUEST)\n",
    "\n",
    "    def put(self, request, pk):\n",
    "        \"\"\"Actualizar un producto por ID\"\"\"\n",
    "        try:\n",
    "            product = Product.objects.get(pk=pk)\n",
    "        except Product.DoesNotExist:\n",
    "            return Response({\"error\": \"Producto no encontrado\"}, status=status.HTTP_404_NOT_FOUND)\n",
    "        \n",
    "        serializer = ProductSerializer(product, data=request.data)\n",
    "        if serializer.is_valid():\n",
    "            serializer.save()\n",
    "            return Response(serializer.data)\n",
    "        return Response(serializer.errors, status=status.HTTP_400_BAD_REQUEST)\n",
    "\n",
    "    def delete(self, request, pk):\n",
    "        \"\"\"Eliminar un producto por ID\"\"\"\n",
    "        try:\n",
    "            product = Product.objects.get(pk=pk)\n",
    "        except Product.DoesNotExist:\n",
    "            return Response({\"error\": \"Producto no encontrado\"}, status=status.HTTP_404_NOT_FOUND)\n",
    "\n",
    "        product.delete()\n",
    "        return Response({\"message\": \"Producto eliminado\"}, status=status.HTTP_204_NO_CONTENT)\n"
   ]
  },
  {
   "cell_type": "markdown",
   "id": "58196d67",
   "metadata": {},
   "source": [
    "# 5 Configuramos la rutas"
   ]
  },
  {
   "cell_type": "code",
   "execution_count": null,
   "id": "7c833089",
   "metadata": {},
   "outputs": [],
   "source": [
    "from django.urls import path\n",
    "from .views import ProductAPIView\n",
    "\n",
    "urlpatterns = [\n",
    "    path(\"products/\", ProductAPIView.as_view()),  # Lista y creación de productos\n",
    "    path(\"products/<int:pk>/\", ProductAPIView.as_view()),  # Detalle, actualización y eliminación de un producto\n",
    "]\n"
   ]
  },
  {
   "cell_type": "markdown",
   "id": "1ac313f1",
   "metadata": {},
   "source": [
    "# 6 Pruebas"
   ]
  },
  {
   "cell_type": "markdown",
   "id": "9836da64",
   "metadata": {},
   "source": [
    "## Crear un post"
   ]
  },
  {
   "cell_type": "markdown",
   "id": "e5b7fd77",
   "metadata": {},
   "source": [
    "### on the headers tab:"
   ]
  },
  {
   "cell_type": "markdown",
   "id": "c616f407",
   "metadata": {},
   "source": [
    "- key: Content-Type\n",
    "- value: application/json"
   ]
  },
  {
   "cell_type": "markdown",
   "id": "3d57e17f",
   "metadata": {},
   "source": [
    "### Producto 1"
   ]
  },
  {
   "cell_type": "markdown",
   "id": "752d40c0",
   "metadata": {},
   "source": [
    "URL: http://localhost:8000/api/v1/products/\n",
    "BODY JSON:\n",
    "{\n",
    "    \"name\": \"Laptop\",\n",
    "    \"description\": \"Laptop Dell XPS 13\",\n",
    "    \"price\": 1200.50,\n",
    "    \"stock\": 10\n",
    "}\n"
   ]
  },
  {
   "cell_type": "markdown",
   "id": "c2462f6c",
   "metadata": {},
   "source": [
    "### Response"
   ]
  },
  {
   "cell_type": "code",
   "execution_count": null,
   "id": "9faa6dc4",
   "metadata": {},
   "outputs": [],
   "source": [
    "{\n",
    "    \"id\": 1,\n",
    "    \"name\": \"Laptop\",\n",
    "    \"description\": \"Laptop Dell XPS 13\",\n",
    "    \"price\": \"1200.50\",\n",
    "    \"stock\": 10\n",
    "}"
   ]
  },
  {
   "cell_type": "markdown",
   "id": "f3701cb0",
   "metadata": {},
   "source": [
    "### Producto 2"
   ]
  },
  {
   "cell_type": "markdown",
   "id": "91becf49",
   "metadata": {},
   "source": [
    "URL: http://localhost:8000/api/v1/products/\n",
    "BODY JSON:\n",
    "{\n",
    "    \"name\": \"Gaming Chair\",\n",
    "    \"description\": \"Raptor Gaming Chair\",\n",
    "    \"price\": 200.75,\n",
    "    \"stock\": 7\n",
    "}"
   ]
  },
  {
   "cell_type": "markdown",
   "id": "f84625d3",
   "metadata": {},
   "source": [
    "### Response"
   ]
  },
  {
   "cell_type": "code",
   "execution_count": null,
   "id": "eaaf1b61",
   "metadata": {},
   "outputs": [],
   "source": [
    "{\n",
    "    \"id\": 2,\n",
    "    \"name\": \"Gaming Chair\",\n",
    "    \"description\": \"Raptor Gaming Chair\",\n",
    "    \"price\": \"200.75\",\n",
    "    \"stock\": 7\n",
    "}"
   ]
  },
  {
   "cell_type": "markdown",
   "id": "11e0a8bb",
   "metadata": {},
   "source": [
    "## Listar los productos"
   ]
  },
  {
   "cell_type": "markdown",
   "id": "cfd4afe2",
   "metadata": {},
   "source": [
    "GET: http://localhost:8000/api/v1/products/"
   ]
  },
  {
   "cell_type": "markdown",
   "id": "7e2060ad",
   "metadata": {},
   "source": [
    "### Response"
   ]
  },
  {
   "cell_type": "markdown",
   "id": "8119693e",
   "metadata": {},
   "source": [
    "[\n",
    "    {\n",
    "        \"id\": 1,\n",
    "        \"name\": \"Laptop\",\n",
    "        \"description\": \"Laptop Dell XPS 13\",\n",
    "        \"price\": \"1200.50\",\n",
    "        \"stock\": 10\n",
    "    },\n",
    "    {\n",
    "        \"id\": 2,\n",
    "        \"name\": \"Gaming Chair\",\n",
    "        \"description\": \"Raptor Gaming Chair\",\n",
    "        \"price\": \"200.75\",\n",
    "        \"stock\": 7\n",
    "    }\n",
    "]"
   ]
  },
  {
   "cell_type": "markdown",
   "id": "ae5b46f2",
   "metadata": {},
   "source": [
    "## Obtener Producto por ID"
   ]
  },
  {
   "cell_type": "markdown",
   "id": "5eb22649",
   "metadata": {},
   "source": [
    "GET:http://localhost:8000/api/v1/products/1"
   ]
  },
  {
   "cell_type": "markdown",
   "id": "1dc9cd32",
   "metadata": {},
   "source": [
    "### Response"
   ]
  },
  {
   "cell_type": "markdown",
   "id": "b70137f9",
   "metadata": {},
   "source": [
    "{\n",
    "    \"id\": 1,\n",
    "    \"name\": \"Laptop\",\n",
    "    \"description\": \"Laptop Dell XPS 13\",\n",
    "    \"price\": \"1200.50\",\n",
    "    \"stock\": 10\n",
    "}"
   ]
  },
  {
   "cell_type": "markdown",
   "id": "38247948",
   "metadata": {},
   "source": [
    "## Actualizar producto por ID"
   ]
  },
  {
   "cell_type": "markdown",
   "id": "5c41d743",
   "metadata": {},
   "source": [
    "PUT: http://localhost:8000/api/v1/products/1/"
   ]
  },
  {
   "cell_type": "markdown",
   "id": "39331527",
   "metadata": {},
   "source": [
    "Body:\n",
    "    {\n",
    "    \"name\": \"Laptop Gaming\",\n",
    "    \"description\": \"Laptop Alienware\",\n",
    "    \"price\": 2500.99,\n",
    "    \"stock\": 5\n",
    "}\n"
   ]
  },
  {
   "cell_type": "markdown",
   "id": "6957669d",
   "metadata": {},
   "source": [
    "### Response"
   ]
  },
  {
   "cell_type": "markdown",
   "id": "67cd1d9a",
   "metadata": {},
   "source": [
    "{\n",
    "    \"id\": 1,\n",
    "    \"name\": \"Laptop Gaming\",\n",
    "    \"description\": \"Laptop Alienware\",\n",
    "    \"price\": \"2500.99\",\n",
    "    \"stock\": 5\n",
    "}"
   ]
  },
  {
   "cell_type": "markdown",
   "id": "276653cc",
   "metadata": {},
   "source": [
    "## Elliminar Producto por ID"
   ]
  },
  {
   "cell_type": "markdown",
   "id": "e8864422",
   "metadata": {},
   "source": [
    "DELETE: http://localhost:8000/api/v1/products/1/"
   ]
  },
  {
   "cell_type": "markdown",
   "id": "d5768999",
   "metadata": {},
   "source": [
    "### Response"
   ]
  },
  {
   "cell_type": "markdown",
   "id": "aba927ff",
   "metadata": {},
   "source": [
    "{\n",
    "    \"message\": \"Producto eliminado\"\n",
    "}"
   ]
  }
 ],
 "metadata": {
  "kernelspec": {
   "display_name": "Python 3 (ipykernel)",
   "language": "python",
   "name": "python3"
  },
  "language_info": {
   "codemirror_mode": {
    "name": "ipython",
    "version": 3
   },
   "file_extension": ".py",
   "mimetype": "text/x-python",
   "name": "python",
   "nbconvert_exporter": "python",
   "pygments_lexer": "ipython3",
   "version": "3.11.5"
  }
 },
 "nbformat": 4,
 "nbformat_minor": 5
}
